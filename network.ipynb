{
 "cells": [
  {
   "cell_type": "code",
   "execution_count": 1,
   "metadata": {
    "collapsed": false
   },
   "outputs": [],
   "source": [
    "import numpy as np\n",
    "import tensorflow as tf\n",
    "\n",
    "PATCH_SIZE = 7\n",
    "PATCH_PIXELS = 7*7\n",
    "\n",
    "BATCH_SIZE = 1000\n",
    "\n",
    "NUM_THREADS = 4\n",
    "\n",
    "def read(filenames):\n",
    "    queue = tf.train.string_input_producer(filenames)\n",
    "\n",
    "    with tf.name_scope('reader'):\n",
    "        reader = tf.TFRecordReader()\n",
    "        _, example = reader.read(queue)\n",
    "    \n",
    "    with tf.name_scope('features'):\n",
    "        features = tf.parse_single_example(example, features={\n",
    "            'us_patch': tf.FixedLenFeature([], tf.string),\n",
    "            'mr_patch': tf.FixedLenFeature([], tf.string),\n",
    "        })\n",
    "        with tf.name_scope('decode'):\n",
    "            image_raw = tf.decode_raw(features['mr_patch'], tf.float64)\n",
    "            label_raw = tf.decode_raw(features['us_patch'], tf.float64) \n",
    "            image = tf.cast(tf.reshape(image_raw, [PATCH_SIZE, PATCH_SIZE, 1]), tf.float32)\n",
    "            label = tf.cast(tf.reshape(label_raw, [PATCH_SIZE, PATCH_SIZE, 1]), tf.float32)\n",
    "    \n",
    "    return tf.train.batch([image, label],\n",
    "        batch_size=BATCH_SIZE,\n",
    "        num_threads=NUM_THREADS,\n",
    "        capacity=1000+3*BATCH_SIZE)"
   ]
  },
  {
   "cell_type": "code",
   "execution_count": 2,
   "metadata": {
    "collapsed": false
   },
   "outputs": [
    {
     "data": {
      "text/plain": [
       "([48974], [74709])"
      ]
     },
     "execution_count": 2,
     "metadata": {},
     "output_type": "execute_result"
    }
   ],
   "source": [
    "test_files = ['th-30/05.tfrecord']\n",
    "train_files = ['th-30/13.tfrecord']\n",
    "\n",
    "def count_records(filenames):\n",
    "    count = lambda f: np.sum(1 for _ in tf.python_io.tf_record_iterator(f))\n",
    "    return [count(f) for f in filenames]\n",
    "\n",
    "test_count, train_count = count_records(test_files), count_records(train_files)\n",
    "test_count, train_count"
   ]
  },
  {
   "cell_type": "code",
   "execution_count": 3,
   "metadata": {
    "collapsed": false
   },
   "outputs": [],
   "source": [
    "def summarize(name, variable):\n",
    "    with tf.name_scope(name):\n",
    "        with tf.name_scope('mean'):\n",
    "            mean = tf.reduce_mean(variable)\n",
    "        tf.summary.scalar('mean', mean)\n",
    "\n",
    "        with tf.name_scope('stddev'):\n",
    "            stddev = tf.sqrt(tf.reduce_mean(tf.square(variable - mean)))\n",
    "        tf.summary.scalar('stddev', stddev)    \n",
    "        \n",
    "        tf.summary.scalar('min', tf.reduce_min(variable))\n",
    "        tf.summary.scalar('max', tf.reduce_max(variable))\n",
    "        tf.summary.histogram('histogram', variable)\n",
    "            \n",
    "    return variable"
   ]
  },
  {
   "cell_type": "code",
   "execution_count": 4,
   "metadata": {
    "collapsed": false
   },
   "outputs": [],
   "source": [
    "with tf.name_scope('input'):\n",
    "    image = tf.placeholder(shape=[None, PATCH_SIZE, PATCH_SIZE, 1], dtype=tf.float32, name='image')\n",
    "    label = tf.placeholder(shape=[None, PATCH_SIZE, PATCH_SIZE, 1], dtype=tf.float32, name='label')\n",
    "\n",
    "def create_weight(name, shape):\n",
    "    return summarize(name, tf.Variable(tf.truncated_normal(shape=shape), name=name))\n",
    "\n",
    "def create_bias(name, shape):\n",
    "    return summarize(name, tf.Variable(tf.constant(.1, shape=shape), name=name))\n",
    "   \n",
    "def create_conv(placeholder, weight):\n",
    "    return tf.nn.conv2d(placeholder, weight, strides=[1, 1, 1, 1], padding='SAME')\n",
    "    \n",
    "with tf.name_scope('model'):\n",
    "    conv1_weight = create_weight('conv1_weight', [3, 3, 1, 3])\n",
    "    conv1_bias = create_bias('conv1_bias', [3])\n",
    "    conv1 = create_conv(image, conv1_weight) + conv1_bias\n",
    "        \n",
    "    conv2_weight = create_weight('conv2_weight', [1, 1, 3, 1])\n",
    "    conv2 = create_conv(conv1, conv2_weight)\n",
    "    \n",
    "    tf.summary.histogram('conv1', conv1)\n",
    "    tf.summary.histogram('conv2', conv2)\n",
    "\n",
    "    with tf.name_scope('cost'):\n",
    "        cost = tf.nn.l2_loss(label-conv2)\n",
    "        tf.summary.scalar('cost', cost)\n",
    "        \n",
    "    with tf.name_scope('train'):\n",
    "        train = tf.train.AdamOptimizer(.0001).minimize(cost)"
   ]
  },
  {
   "cell_type": "code",
   "execution_count": null,
   "metadata": {
    "collapsed": true
   },
   "outputs": [],
   "source": [
    "import matplotlib.cm as cm\n",
    "import matplotlib.pyplot as plt\n",
    "\n",
    "def imshow(image):\n",
    "    plt.imshow(image, cmap=cm.gray, interpolation='none')\n",
    "    plt.show()"
   ]
  },
  {
   "cell_type": "code",
   "execution_count": null,
   "metadata": {
    "collapsed": false
   },
   "outputs": [
    {
     "name": "stdout",
     "output_type": "stream",
     "text": [
      "epoch: 0, step: 0\n",
      "epoch: 0, step: 1\n",
      "epoch: 0, step: 2\n",
      "epoch: 0, step: 3\n",
      "epoch: 0, step: 4\n",
      "epoch: 0, step: 5\n",
      "epoch: 0, step: 6\n",
      "epoch: 0, step: 7\n",
      "epoch: 0, step: 8\n",
      "epoch: 0, step: 9\n"
     ]
    }
   ],
   "source": [
    "batch = read(train_files)\n",
    "\n",
    "with tf.Session() as sess:\n",
    "    sess.run(tf.global_variables_initializer())\n",
    "\n",
    "    coord = tf.train.Coordinator()\n",
    "    threads = tf.train.start_queue_runners(sess=sess, coord=coord)\n",
    "    \n",
    "    writer = tf.summary.FileWriter('/tmp/mrtous', sess.graph)\n",
    "    merged = tf.summary.merge_all()\n",
    "    \n",
    "    try:\n",
    "        step = 0\n",
    "        epoch = 0\n",
    "        \n",
    "        while not coord.should_stop():\n",
    "            run_options = tf.RunOptions(trace_level=tf.RunOptions.FULL_TRACE)\n",
    "            run_metadata = tf.RunMetadata()\n",
    "            \n",
    "            _, summary = sess.run([train, merged], feed_dict={\n",
    "                image: batch[0].eval(),\n",
    "                label: batch[1].eval(),\n",
    "            }, options=run_options, run_metadata=run_metadata)\n",
    "\n",
    "            print('epoch: {}, step: {}'.format(epoch, step))\n",
    "            writer.add_run_metadata(run_metadata, 'epoch{}step{}'.format(epoch, step))\n",
    "            writer.add_summary(summary, step)\n",
    "            \n",
    "            if np.sum(train_count) % BATCH_SIZE < step:\n",
    "                step = 0\n",
    "                epoch += 1\n",
    "            else:\n",
    "                step += 1\n",
    "                \n",
    "    except tf.errors.OutOfRangeError:\n",
    "        print('done with training')\n",
    "    finally:\n",
    "        writer.close()\n",
    "        \n",
    "        coord.request_stop()\n",
    "        coord.join(threads)"
   ]
  },
  {
   "cell_type": "code",
   "execution_count": null,
   "metadata": {
    "collapsed": true
   },
   "outputs": [],
   "source": []
  },
  {
   "cell_type": "code",
   "execution_count": null,
   "metadata": {
    "collapsed": true
   },
   "outputs": [],
   "source": []
  }
 ],
 "metadata": {
  "kernelspec": {
   "display_name": "Python 3",
   "language": "python",
   "name": "python3"
  },
  "language_info": {
   "codemirror_mode": {
    "name": "ipython",
    "version": 3
   },
   "file_extension": ".py",
   "mimetype": "text/x-python",
   "name": "python",
   "nbconvert_exporter": "python",
   "pygments_lexer": "ipython3",
   "version": "3.5.2"
  }
 },
 "nbformat": 4,
 "nbformat_minor": 1
}
