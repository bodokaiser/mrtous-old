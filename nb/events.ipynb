{
 "cells": [
  {
   "cell_type": "code",
   "execution_count": 123,
   "metadata": {
    "collapsed": false
   },
   "outputs": [],
   "source": [
    "import numpy as np\n",
    "import pandas as pd\n",
    "import functools as ft\n",
    "import tensorflow as tf\n",
    "\n",
    "import plotly.plotly as py\n",
    "import plotly.graph_objs as go\n",
    "\n",
    "from tensorflow.python.summary.event_multiplexer import EventMultiplexer"
   ]
  },
  {
   "cell_type": "code",
   "execution_count": 128,
   "metadata": {
    "collapsed": false
   },
   "outputs": [
    {
     "name": "stdout",
     "output_type": "stream",
     "text": [
      "INFO:tensorflow:Event Multiplexer initializing.\n",
      "INFO:tensorflow:Event Multplexer doing initialization load for {'test2': '/tmp/mrtous/test/th30-ep30/2', 'test1': '/tmp/mrtous/test/th30-ep30/1', 'train3': '/tmp/mrtous/train/th30-ep30/3', 'test4': '/tmp/mrtous/test/th30-ep30/4', 'train1': '/tmp/mrtous/train/th30-ep30/1', 'train4': '/tmp/mrtous/train/th30-ep30/4', 'test3': '/tmp/mrtous/test/th30-ep30/3', 'train2': '/tmp/mrtous/train/th30-ep30/2'}\n",
      "INFO:tensorflow:Constructing EventAccumulator for /tmp/mrtous/test/th30-ep30/2\n",
      "INFO:tensorflow:Constructing EventAccumulator for /tmp/mrtous/test/th30-ep30/1\n",
      "INFO:tensorflow:Constructing EventAccumulator for /tmp/mrtous/train/th30-ep30/3\n",
      "INFO:tensorflow:Constructing EventAccumulator for /tmp/mrtous/test/th30-ep30/4\n",
      "INFO:tensorflow:Constructing EventAccumulator for /tmp/mrtous/train/th30-ep30/1\n",
      "INFO:tensorflow:Constructing EventAccumulator for /tmp/mrtous/train/th30-ep30/4\n",
      "INFO:tensorflow:Constructing EventAccumulator for /tmp/mrtous/test/th30-ep30/3\n",
      "INFO:tensorflow:Constructing EventAccumulator for /tmp/mrtous/train/th30-ep30/2\n",
      "INFO:tensorflow:Event Multiplexer done initializing\n",
      "INFO:tensorflow:Beginning EventMultiplexer.Reload()\n",
      "INFO:tensorflow:No path found after /tmp/mrtous/test/th30-ep30/2/events.out.tfevents.1482092101.Bodos-MacBook-Pro.local\n",
      "INFO:tensorflow:No path found after /tmp/mrtous/test/th30-ep30/1/events.out.tfevents.1482091839.Bodos-MacBook-Pro.local\n",
      "INFO:tensorflow:No path found after /tmp/mrtous/train/th30-ep30/1/events.out.tfevents.1482076832.Bodos-MacBook-Pro.local\n",
      "INFO:tensorflow:No path found after /tmp/mrtous/test/th30-ep30/4/events.out.tfevents.1482092801.Bodos-MacBook-Pro.local\n",
      "INFO:tensorflow:No path found after /tmp/mrtous/train/th30-ep30/3/events.out.tfevents.1482077896.Bodos-MacBook-Pro.local\n",
      "INFO:tensorflow:No path found after /tmp/mrtous/train/th30-ep30/4/events.out.tfevents.1482078584.Bodos-MacBook-Pro.local\n",
      "INFO:tensorflow:No path found after /tmp/mrtous/test/th30-ep30/3/events.out.tfevents.1482092561.Bodos-MacBook-Pro.local\n",
      "INFO:tensorflow:No path found after /tmp/mrtous/train/th30-ep30/2/events.out.tfevents.1482077357.Bodos-MacBook-Pro.local\n",
      "INFO:tensorflow:Finished with EventMultiplexer.Reload()\n",
      "\n"
     ]
    }
   ],
   "source": [
    "def build_runs(names, path, rounds):\n",
    "    return {k: d[k] for d in [{'{}{}'.format(s, i): path.format(s, i) for i in range(1, rounds+1)} for s in names] for k in d}\n",
    "\n",
    "runs_th30 = build_runs(['test', 'train'], '/tmp/mrtous/{}/th30-ep30/{}', 4)\n",
    "\n",
    "emp_th30 = EventMultiplexer(runs_th30)\n",
    "emp_th30.Reload()\n",
    "\n",
    "print('')"
   ]
  },
  {
   "cell_type": "code",
   "execution_count": 125,
   "metadata": {
    "collapsed": false
   },
   "outputs": [],
   "source": [
    "def extract_loss(emp, runs):\n",
    "    loss = {r: list(zip(*map(lambda s: (s.step, s.value), evmp.Scalars(r, 'loss/loss')))) for r in runs.keys()}\n",
    "    \n",
    "    return pd.DataFrame({r: pd.Series(loss[r][1], name=r, index=loss[r][0]) for r in runs.keys()})"
   ]
  },
  {
   "cell_type": "code",
   "execution_count": 129,
   "metadata": {
    "collapsed": false
   },
   "outputs": [],
   "source": [
    "df_th30 = extract_loss(emp_th30, runs_th30)\n",
    "\n",
    "test_th30 = df[['test1', 'test2', 'test3', 'test4']].dropna()\n",
    "train_th30 = df[['train1', 'train2', 'train3', 'train4']]\n",
    "\n",
    "layout = go.Layout(xaxis=dict(title='step'), yaxis=dict(title='norm'))\n",
    "\n",
    "test_th30_data = [go.Scatter(name=c, x=test.index, y=test_th30[c]) for c in test_th30.columns]\n",
    "train_th30_data = [go.Scatter(name=c, x=test.index, y=train_th30[c]) for c in train_th30.columns]"
   ]
  },
  {
   "cell_type": "code",
   "execution_count": 130,
   "metadata": {
    "collapsed": false
   },
   "outputs": [
    {
     "data": {
      "text/html": [
       "<iframe id=\"igraph\" scrolling=\"no\" style=\"border:none;\" seamless=\"seamless\" src=\"https://plot.ly/~bodokaiser/142.embed\" height=\"525px\" width=\"100%\"></iframe>"
      ],
      "text/plain": [
       "<plotly.tools.PlotlyDisplay object>"
      ]
     },
     "execution_count": 130,
     "metadata": {},
     "output_type": "execute_result"
    }
   ],
   "source": [
    "py.iplot(go.Figure(data=test_th30_data, layout=layout))"
   ]
  },
  {
   "cell_type": "code",
   "execution_count": 131,
   "metadata": {
    "collapsed": false
   },
   "outputs": [
    {
     "data": {
      "text/html": [
       "<iframe id=\"igraph\" scrolling=\"no\" style=\"border:none;\" seamless=\"seamless\" src=\"https://plot.ly/~bodokaiser/144.embed\" height=\"525px\" width=\"100%\"></iframe>"
      ],
      "text/plain": [
       "<plotly.tools.PlotlyDisplay object>"
      ]
     },
     "execution_count": 131,
     "metadata": {},
     "output_type": "execute_result"
    }
   ],
   "source": [
    "py.iplot(go.Figure(data=train_th30_data, layout=layout))"
   ]
  },
  {
   "cell_type": "code",
   "execution_count": 132,
   "metadata": {
    "collapsed": false
   },
   "outputs": [
    {
     "name": "stdout",
     "output_type": "stream",
     "text": [
      "INFO:tensorflow:Event Multiplexer initializing.\n",
      "INFO:tensorflow:Event Multplexer doing initialization load for {'train1': '/tmp/mrtous/train/th10-ep30/1', 'train2': '/tmp/mrtous/train/th10-ep30/2'}\n",
      "INFO:tensorflow:Constructing EventAccumulator for /tmp/mrtous/train/th10-ep30/1\n",
      "INFO:tensorflow:Constructing EventAccumulator for /tmp/mrtous/train/th10-ep30/2\n",
      "INFO:tensorflow:Event Multiplexer done initializing\n",
      "INFO:tensorflow:Beginning EventMultiplexer.Reload()\n",
      "INFO:tensorflow:No path found after /tmp/mrtous/train/th10-ep30/1/events.out.tfevents.1482129136.Bodos-MacBook-Pro.local\n",
      "INFO:tensorflow:No path found after /tmp/mrtous/train/th10-ep30/2/events.out.tfevents.1482135326.Bodos-MacBook-Pro.local\n",
      "INFO:tensorflow:Finished with EventMultiplexer.Reload()\n",
      "\n"
     ]
    }
   ],
   "source": [
    "runs_th10 = build_runs(['train'], '/tmp/mrtous/{}/th10-ep30/{}', 2)\n",
    "\n",
    "emp_th10 = EventMultiplexer(runs_th10)\n",
    "emp_th10.Reload()\n",
    "\n",
    "print('')"
   ]
  },
  {
   "cell_type": "code",
   "execution_count": 134,
   "metadata": {
    "collapsed": false
   },
   "outputs": [
    {
     "data": {
      "text/html": [
       "<iframe id=\"igraph\" scrolling=\"no\" style=\"border:none;\" seamless=\"seamless\" src=\"https://plot.ly/~bodokaiser/146.embed\" height=\"525px\" width=\"100%\"></iframe>"
      ],
      "text/plain": [
       "<plotly.tools.PlotlyDisplay object>"
      ]
     },
     "execution_count": 134,
     "metadata": {},
     "output_type": "execute_result"
    }
   ],
   "source": [
    "df_th10 = extract_loss(emp_th10, runs_th10)\n",
    "\n",
    "th10_data = [go.Scatter(name=c, x=test.index, y=df_th10[c]) for c in df_th10.columns]\n",
    "\n",
    "py.iplot(go.Figure(data=th10_data, layout=layout))"
   ]
  },
  {
   "cell_type": "code",
   "execution_count": null,
   "metadata": {
    "collapsed": true
   },
   "outputs": [],
   "source": []
  }
 ],
 "metadata": {
  "kernelspec": {
   "display_name": "Python 3",
   "language": "python",
   "name": "python3"
  },
  "language_info": {
   "codemirror_mode": {
    "name": "ipython",
    "version": 3
   },
   "file_extension": ".py",
   "mimetype": "text/x-python",
   "name": "python",
   "nbconvert_exporter": "python",
   "pygments_lexer": "ipython3",
   "version": "3.5.2"
  }
 },
 "nbformat": 4,
 "nbformat_minor": 2
}
