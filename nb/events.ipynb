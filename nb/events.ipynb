{
 "cells": [
  {
   "cell_type": "code",
   "execution_count": 84,
   "metadata": {
    "collapsed": false
   },
   "outputs": [],
   "source": [
    "import numpy as np\n",
    "import pandas as pd\n",
    "import functools as ft\n",
    "import tensorflow as tf\n",
    "\n",
    "from tensorflow.python.summary.event_multiplexer import EventMultiplexer"
   ]
  },
  {
   "cell_type": "code",
   "execution_count": 67,
   "metadata": {
    "collapsed": false
   },
   "outputs": [
    {
     "name": "stdout",
     "output_type": "stream",
     "text": [
      "INFO:tensorflow:Event Multiplexer initializing.\n",
      "INFO:tensorflow:Event Multplexer doing initialization load for {'test2': '/tmp/mrtous/test/th30-ep30/2', 'test1': '/tmp/mrtous/test/th30-ep30/1', 'train3': '/tmp/mrtous/train/th30-ep30/3', 'test4': '/tmp/mrtous/test/th30-ep30/4', 'train1': '/tmp/mrtous/train/th30-ep30/1', 'train4': '/tmp/mrtous/train/th30-ep30/4', 'test3': '/tmp/mrtous/test/th30-ep30/3', 'train2': '/tmp/mrtous/train/th30-ep30/2'}\n",
      "INFO:tensorflow:Constructing EventAccumulator for /tmp/mrtous/test/th30-ep30/2\n",
      "INFO:tensorflow:Constructing EventAccumulator for /tmp/mrtous/test/th30-ep30/1\n",
      "INFO:tensorflow:Constructing EventAccumulator for /tmp/mrtous/train/th30-ep30/3\n",
      "INFO:tensorflow:Constructing EventAccumulator for /tmp/mrtous/test/th30-ep30/4\n",
      "INFO:tensorflow:Constructing EventAccumulator for /tmp/mrtous/train/th30-ep30/1\n",
      "INFO:tensorflow:Constructing EventAccumulator for /tmp/mrtous/train/th30-ep30/4\n",
      "INFO:tensorflow:Constructing EventAccumulator for /tmp/mrtous/test/th30-ep30/3\n",
      "INFO:tensorflow:Constructing EventAccumulator for /tmp/mrtous/train/th30-ep30/2\n",
      "INFO:tensorflow:Event Multiplexer done initializing\n",
      "INFO:tensorflow:Beginning EventMultiplexer.Reload()\n",
      "INFO:tensorflow:No path found after /tmp/mrtous/test/th30-ep30/2/events.out.tfevents.1482092101.Bodos-MacBook-Pro.local\n",
      "INFO:tensorflow:No path found after /tmp/mrtous/test/th30-ep30/1/events.out.tfevents.1482091839.Bodos-MacBook-Pro.local\n",
      "INFO:tensorflow:No path found after /tmp/mrtous/train/th30-ep30/1/events.out.tfevents.1482076832.Bodos-MacBook-Pro.local\n",
      "INFO:tensorflow:No path found after /tmp/mrtous/test/th30-ep30/4/events.out.tfevents.1482092801.Bodos-MacBook-Pro.local\n",
      "INFO:tensorflow:No path found after /tmp/mrtous/train/th30-ep30/3/events.out.tfevents.1482077896.Bodos-MacBook-Pro.local\n",
      "INFO:tensorflow:No path found after /tmp/mrtous/train/th30-ep30/4/events.out.tfevents.1482078584.Bodos-MacBook-Pro.local\n",
      "INFO:tensorflow:No path found after /tmp/mrtous/test/th30-ep30/3/events.out.tfevents.1482092561.Bodos-MacBook-Pro.local\n",
      "INFO:tensorflow:No path found after /tmp/mrtous/train/th30-ep30/2/events.out.tfevents.1482077357.Bodos-MacBook-Pro.local\n",
      "INFO:tensorflow:Finished with EventMultiplexer.Reload()\n"
     ]
    },
    {
     "data": {
      "text/plain": [
       "{'test1': '/tmp/mrtous/test/th30-ep30/1',\n",
       " 'test2': '/tmp/mrtous/test/th30-ep30/2',\n",
       " 'test3': '/tmp/mrtous/test/th30-ep30/3',\n",
       " 'test4': '/tmp/mrtous/test/th30-ep30/4',\n",
       " 'train1': '/tmp/mrtous/train/th30-ep30/1',\n",
       " 'train2': '/tmp/mrtous/train/th30-ep30/2',\n",
       " 'train3': '/tmp/mrtous/train/th30-ep30/3',\n",
       " 'train4': '/tmp/mrtous/train/th30-ep30/4'}"
      ]
     },
     "execution_count": 67,
     "metadata": {},
     "output_type": "execute_result"
    }
   ],
   "source": [
    "path = '/tmp/mrtous/{}/th30-ep30/{}'\n",
    "\n",
    "runs = {k: d[k] for d in [{'{}{}'.format(s, i): path.format(s, i) for i in range(1, 5)} for s in ['test', 'train']] for k in d}\n",
    "\n",
    "evmp = EventMultiplexer(runs)\n",
    "evmp.Reload()\n",
    "\n",
    "runs"
   ]
  },
  {
   "cell_type": "code",
   "execution_count": 107,
   "metadata": {
    "collapsed": false
   },
   "outputs": [
    {
     "data": {
      "text/html": [
       "<div>\n",
       "<table border=\"1\" class=\"dataframe\">\n",
       "  <thead>\n",
       "    <tr style=\"text-align: right;\">\n",
       "      <th></th>\n",
       "      <th>test1</th>\n",
       "      <th>test2</th>\n",
       "      <th>test3</th>\n",
       "      <th>test4</th>\n",
       "      <th>train1</th>\n",
       "      <th>train2</th>\n",
       "      <th>train3</th>\n",
       "      <th>train4</th>\n",
       "    </tr>\n",
       "  </thead>\n",
       "  <tbody>\n",
       "    <tr>\n",
       "      <th>0</th>\n",
       "      <td>94998.500000</td>\n",
       "      <td>154497.203125</td>\n",
       "      <td>29451.439453</td>\n",
       "      <td>152339.140625</td>\n",
       "      <td>30739.130859</td>\n",
       "      <td>109432.718750</td>\n",
       "      <td>713947.7500</td>\n",
       "      <td>14112.495117</td>\n",
       "    </tr>\n",
       "    <tr>\n",
       "      <th>1</th>\n",
       "      <td>88415.914062</td>\n",
       "      <td>147619.890625</td>\n",
       "      <td>28228.550781</td>\n",
       "      <td>144456.562500</td>\n",
       "      <td>29566.324219</td>\n",
       "      <td>107052.203125</td>\n",
       "      <td>716461.8750</td>\n",
       "      <td>14931.403320</td>\n",
       "    </tr>\n",
       "    <tr>\n",
       "      <th>2</th>\n",
       "      <td>87791.523438</td>\n",
       "      <td>129295.296875</td>\n",
       "      <td>31586.500000</td>\n",
       "      <td>143315.062500</td>\n",
       "      <td>28497.001953</td>\n",
       "      <td>100338.320312</td>\n",
       "      <td>653211.3750</td>\n",
       "      <td>12457.924805</td>\n",
       "    </tr>\n",
       "    <tr>\n",
       "      <th>3</th>\n",
       "      <td>86269.687500</td>\n",
       "      <td>145517.156250</td>\n",
       "      <td>24610.984375</td>\n",
       "      <td>137762.218750</td>\n",
       "      <td>30160.384766</td>\n",
       "      <td>110930.875000</td>\n",
       "      <td>716076.1875</td>\n",
       "      <td>12670.998047</td>\n",
       "    </tr>\n",
       "    <tr>\n",
       "      <th>4</th>\n",
       "      <td>86889.187500</td>\n",
       "      <td>150957.390625</td>\n",
       "      <td>25715.041016</td>\n",
       "      <td>137198.625000</td>\n",
       "      <td>30971.910156</td>\n",
       "      <td>108861.117188</td>\n",
       "      <td>707853.3750</td>\n",
       "      <td>12981.123047</td>\n",
       "    </tr>\n",
       "  </tbody>\n",
       "</table>\n",
       "</div>"
      ],
      "text/plain": [
       "          test1          test2         test3          test4        train1  \\\n",
       "0  94998.500000  154497.203125  29451.439453  152339.140625  30739.130859   \n",
       "1  88415.914062  147619.890625  28228.550781  144456.562500  29566.324219   \n",
       "2  87791.523438  129295.296875  31586.500000  143315.062500  28497.001953   \n",
       "3  86269.687500  145517.156250  24610.984375  137762.218750  30160.384766   \n",
       "4  86889.187500  150957.390625  25715.041016  137198.625000  30971.910156   \n",
       "\n",
       "          train2       train3        train4  \n",
       "0  109432.718750  713947.7500  14112.495117  \n",
       "1  107052.203125  716461.8750  14931.403320  \n",
       "2  100338.320312  653211.3750  12457.924805  \n",
       "3  110930.875000  716076.1875  12670.998047  \n",
       "4  108861.117188  707853.3750  12981.123047  "
      ]
     },
     "execution_count": 107,
     "metadata": {},
     "output_type": "execute_result"
    }
   ],
   "source": [
    "loss = {r: list(zip(*map(lambda s: (s.step, s.value), evmp.Scalars(r, 'loss/loss')))) for r in runs.keys()}\n",
    "\n",
    "df = pd.DataFrame({r: pd.Series(loss[r][1], name=r, index=loss[r][0]) for r in runs.keys()})\n",
    "df.head()"
   ]
  },
  {
   "cell_type": "code",
   "execution_count": 119,
   "metadata": {
    "collapsed": false
   },
   "outputs": [],
   "source": [
    "import plotly.plotly as py\n",
    "import plotly.graph_objs as go\n",
    "\n",
    "test = df[['test1', 'test2', 'test3', 'test4']].dropna()\n",
    "train = df[['train1', 'train2', 'train3', 'train4']]\n",
    "\n",
    "layout = go.Layout(xaxis=dict(title='step'), yaxis=dict(title='norm'))\n",
    "\n",
    "test_data = [go.Scatter(name=c, x=test.index, y=test[c]) for c in test.columns]\n",
    "train_data = [go.Scatter(name=c, x=test.index, y=train[c]) for c in train.columns]"
   ]
  },
  {
   "cell_type": "code",
   "execution_count": 120,
   "metadata": {
    "collapsed": false
   },
   "outputs": [
    {
     "data": {
      "text/html": [
       "<iframe id=\"igraph\" scrolling=\"no\" style=\"border:none;\" seamless=\"seamless\" src=\"https://plot.ly/~bodokaiser/136.embed\" height=\"525px\" width=\"100%\"></iframe>"
      ],
      "text/plain": [
       "<plotly.tools.PlotlyDisplay object>"
      ]
     },
     "execution_count": 120,
     "metadata": {},
     "output_type": "execute_result"
    }
   ],
   "source": [
    "py.iplot(go.Figure(data=test_data, layout=layout))"
   ]
  },
  {
   "cell_type": "code",
   "execution_count": 121,
   "metadata": {
    "collapsed": false
   },
   "outputs": [
    {
     "data": {
      "text/html": [
       "<iframe id=\"igraph\" scrolling=\"no\" style=\"border:none;\" seamless=\"seamless\" src=\"https://plot.ly/~bodokaiser/138.embed\" height=\"525px\" width=\"100%\"></iframe>"
      ],
      "text/plain": [
       "<plotly.tools.PlotlyDisplay object>"
      ]
     },
     "execution_count": 121,
     "metadata": {},
     "output_type": "execute_result"
    }
   ],
   "source": [
    "py.iplot(go.Figure(data=train_data, layout=layout))"
   ]
  },
  {
   "cell_type": "code",
   "execution_count": null,
   "metadata": {
    "collapsed": true
   },
   "outputs": [],
   "source": []
  }
 ],
 "metadata": {
  "kernelspec": {
   "display_name": "Python 3",
   "language": "python",
   "name": "python3"
  },
  "language_info": {
   "codemirror_mode": {
    "name": "ipython",
    "version": 3
   },
   "file_extension": ".py",
   "mimetype": "text/x-python",
   "name": "python",
   "nbconvert_exporter": "python",
   "pygments_lexer": "ipython3",
   "version": "3.5.2"
  }
 },
 "nbformat": 4,
 "nbformat_minor": 2
}
